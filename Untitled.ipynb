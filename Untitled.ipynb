{
 "cells": [
  {
   "cell_type": "code",
   "execution_count": null,
   "id": "159fd210-24e6-459e-b8ec-ea2db31a2ad8",
   "metadata": {
    "tags": []
   },
   "outputs": [],
   "source": [
    "\"\"\"\n",
    "EXCEPCIONES: PACHACAMAC (muy pequeño/grupos aislados muy pequeños)\n",
    "             PUNTA NEGRA (gRUPOS PEQUEÑOS AISLADOS)\n",
    "             SAN BARTOLO (Grupos muy pequeños si respetamos las islas)\n",
    "             SAN ISIDRO (Grupos muy pequeños si respetamos las islas)\n",
    "             SANTA MARIA DEL MAR -> Solo 3 puntos de venta(No aplica la clusterizacion)\n",
    "             \n",
    "PARAMETROS: eps = 500, min_samples = 5 \n",
    "    COMAS -> fusion_dist_max = 700     \n",
    "    INDEPENDECIA -> fusion_dist_max = 800\n",
    "    PUENTE PIEDRA -> fusion_dist_max = 1000\n",
    "    SAN MARTIN DE PORRES -> fusion_dist_max = 400(ajustar un cluster que tiene 10 puntos, no usar algorimtos, calcular la distancia del centroide del cluster pequenio y calcualr cual cluster esta mas cerca, anexar al cluster mas pequenio que tenga cerca pero si al anexarse al cluster cerca supera el mínimo en un rango de tolerancia de max + 10, no se une a nada)\n",
    "    LOS OLIVOS -> fusion_dist_max = 800\n",
    "    ANCON -> fusion_dist_max = 50\n",
    "    BREÑA -> fusion_dist_max = 200\n",
    "    CHACLACAYO -> fusion_dist_max = 200\n",
    "    CHORRILLOS -> fusion_dist_max = 1000\n",
    "    CIENEGUILLA -> fusion_dist_max = 100\n",
    "    EL AGUSTINO -> fusion_dist_max = 800\n",
    "    LA MOLINA -> fusion_dist_max = 100, dist_umbral = 400(detectar clusters aislados)\n",
    "    LA VICTORIA -> fusion_dist_max = 1000\n",
    "    LURIGANCHO -> fusion_dist_max = 1000 (separar_puntos_alejados())\n",
    "    LURIGANCHO -> fusion_dist_max = 700 (//separar_puntos_alejados())\n",
    "    MAGDALENA DEL MAR -> fusion_dist_max = 100 (//separar_puntos_alejados())\n",
    "    MAGDALENA VIEJA -> fusion_dist_max = 100 (//separar_puntos_alejados())\n",
    "    MIRAFLORES -> fusion_dist_max = 200 (//separar_puntos_alejados())\n",
    "    PACHACAMAC -> fusion_dist_max = 500 (verificar_cluster_aislado())\n",
    "    PUNTA HERMOSA -> fusion_dist_max = 100 (//verificar_cluster_aislado())\n",
    "    PUNTA NEGRA -> fusion_dist_max = 100 (//verificar_cluster_aislado())\n",
    "    RIMAC -> fusion_dist_max = 800 (//verificar_cluster_aislado())\n",
    "    SAN BARTOLO -> fusion_dist_max = 800 (//verificar_cluster_aislado())\n",
    "    SAN BORJA -> fusion_dist_max = 100 (//verificar_cluster_aislado()) (2 GRUPOS VALIDOS)\n",
    "    SAN ISIDRO -> fusion_dist_max = 100 (//verificar_cluster_aislado())\n",
    "    SAN JUAN DE LURIGANCHO -> fusion_dist_max = 1000 (Revisar islas, hay agrupaciones que pasan por avenidas)\n",
    "    SAN LUIS -> fusion_dist_max = 300\n",
    "    SAN MIGUEL -> fusion_dist_max = 400\n",
    "    SANTA ANITA > fusion_dist_max = 700\n",
    "    SANTIAGO DE SURCO -> fusion_dist_max = 500\n",
    "    SURQUILLO -> fusion_dist_max = 300\n",
    "    VILLA EL SALVADOR -> fusion_dist_max = 1000\n",
    "    VILLA MARIA DEL TRIUNFO -> fusion_dist_max = 1000\n",
    "    \n",
    "    \n",
    "PARAMETROS: eps=200, min_samples=2\n",
    "    CARABAYLLO -> fusion_dist_max = 100  / fusion_dist_max = 100   eps=500, min_samples=5\n",
    "    SANTA ROSA -> fusion_dist_max = 100\n",
    "    ATE -> fusion_dist_max = 100\n",
    "    BARRANCO -> fusion_dist_max = 400\n",
    "    JESUS MARIA -> fusion_dist_max = 200  (Aplicando k-means para dividir en clusters(zona densa))\n",
    "    LINCE -> fusion_dist_max = 50 (SPLIT_CLUSTER)\n",
    "    \n",
    "RADIO CENTROIDES DE CLUSTERS:\n",
    "    PUENTE PIEDRA -> MAX_INTRA_DIST = 800 (Maximiza clusters / aumentar funcion que idnetifica clusters con radios grandes)\n",
    "    CARABAYLLO -> MAX_INTRA_DIST = 500 (Detecta clusters pequeños que tienen )  --> Si aplicamos este parametro sobre el resto de distrtitos, no afecta las formas pero se limitan los clusters\n",
    "    COMAS -> MAX_INTRA_DIST = 1500\n",
    "    INDEPENDENCIA -> MAX_INTRA_DIST = 1800\n",
    "    SAN MARTIN DE PORRES -> MAX_INTRA_DIST = 2900\n",
    "    LOS OLIVOS -> MAX_INTRA_DIST = 1500\n",
    "    ANCON -> MAX_INTRA_DIST = 1000\n",
    "    SANTA ROSA -> \n",
    "    ATE -> MAX_INTRA_DIST = 500\n",
    "    BREÑA -> MAX_INTRA_DIST = 900\n",
    "    CHACLACAYO ->\n",
    "    CHORRILLOS ->\n",
    "    CIENEGUILLA ->\n",
    "    EL AGUSTINO ->\n",
    "    LA MOLINA ->\n",
    "    LA VICTORIA ->\n",
    "\"\"\""
   ]
  },
  {
   "cell_type": "code",
   "execution_count": 53,
   "id": "fbb93005-e47c-4cca-a2a8-50f230e3c293",
   "metadata": {
    "tags": []
   },
   "outputs": [],
   "source": [
    "lima_norte = [\"Ancon\", ## LISTO  pocasrutas, area poco densa\n",
    "              \"Carabayllo\", ##LISTO \n",
    "              \"Comas\", ## LISTO\n",
    "              \"Independencia\", ## LISTO\n",
    "              \"SanMartindePorres\", ## LISTO\n",
    "              \"PuentePiedra\", ## LISTO\n",
    "              \"LosOlivos\", ## LISTO\n",
    "              \"SantaRosa\" ## LISTO   1 ruta, area poco densa\n",
    "             ]"
   ]
  },
  {
   "cell_type": "code",
   "execution_count": 3,
   "id": "50038d45-6f03-402f-a974-83744ddbc8a3",
   "metadata": {
    "tags": []
   },
   "outputs": [
    {
     "name": "stdout",
     "output_type": "stream",
     "text": [
      "Ancon\n",
      "Ate\n",
      "Barranco\n",
      "Breña\n",
      "Carabayllo\n",
      "Chaclacayo\n",
      "Chorrillos\n",
      "Cieneguilla\n",
      "Comas\n",
      "ElAgustino\n",
      "Independencia\n",
      "JesusMaria\n",
      "LaMolina\n",
      "LaVictoria\n",
      "Lima\n",
      "Lince\n",
      "LosOlivos\n",
      "Lurigancho\n",
      "Lurin\n",
      "MagdalenadelMar\n",
      "MagdalenaVieja\n",
      "Miraflores\n",
      "Pachacamac\n",
      "Pucusana\n",
      "PuentePiedra\n",
      "PuntaHermosa\n",
      "PuntaNegra\n",
      "Rimac\n",
      "SanBartolo\n",
      "SanBorja\n",
      "SanIsidro\n",
      "SanJuandeLurigancho\n",
      "SanJuandeMiraflores\n",
      "SanLuis\n",
      "SanMartindePorres\n",
      "SanMiguel\n",
      "SantaAnita\n",
      "SantaMariadelMar\n",
      "SantaRosa\n",
      "SantiagodeSurco\n",
      "Surquillo\n",
      "VillaElSalvador\n",
      "VillaMariadelTriunfo\n"
     ]
    }
   ],
   "source": [
    "import json\n",
    "\n",
    "# Leer el archivo JSON\n",
    "with open(\"gadm41_PER_3.json\", \"r\", encoding=\"utf-8\") as f:\n",
    "    data = json.load(f)\n",
    "\n",
    "# Extraer todos los NAME_3\n",
    "\n",
    "for feature in data[\"features\"]:\n",
    "    if feature[\"properties\"][\"NAME_1\"] == \"LimaProvince\":\n",
    "    # # if \"Lima\" in feature[\"properties\"][\"NAME_1\"]:\n",
    "    # #     print(feature[\"properties\"][\"NAME_1\"])\n",
    "    #     if feature[\"properties\"][\"NAME_3\"] == \"Breña\":\n",
    "    #         # Imprimir el nombre del distrito\n",
    "        print(feature[\"properties\"][\"NAME_3\"])"
   ]
  },
  {
   "cell_type": "code",
   "execution_count": 224,
   "id": "1d937d15-0996-4c09-9c5d-f176dffdbed8",
   "metadata": {
    "tags": []
   },
   "outputs": [
    {
     "data": {
      "text/plain": [
       "{'Ruta 1': 95,\n",
       " 'Ruta 2': 77,\n",
       " 'Ruta 3': 65,\n",
       " 'Ruta 4': 47,\n",
       " 'Ruta 5': 52,\n",
       " 'Ruta 6': 72,\n",
       " 'Ruta 7': 42,\n",
       " 'Ruta 8': 44,\n",
       " 'Ruta 9': 42,\n",
       " 'Ruta 10': 72,\n",
       " 'Ruta 11': 67,\n",
       " 'Ruta 12': 72}"
      ]
     },
     "execution_count": 224,
     "metadata": {},
     "output_type": "execute_result"
    }
   ],
   "source": [
    "import pandas as pd\n",
    "# path = 'DIMORISAC S.A.C._PuentePiedra_Rutas_20250814.csv'\n",
    "# path = 'DIMORISAC S.A.C._Comas_Rutas_20250814.csv'\n",
    "# path = 'DIMORISAC S.A.C._Independencia_Rutas_20250813.csv'\n",
    "# path = 'DIMORISAC S.A.C._SanMartindePorres_Rutas_20250813.csv'\n",
    "# path = 'DIMORISAC S.A.C._LosOlivos_Rutas_20250813.csv'\n",
    "# path = 'DIMORISAC S.A.C._Ancon_Rutas_20250813.csv'\n",
    "# path = 'DIMORISAC S.A.C._Carabayllo_Rutas_20250814.csv'\n",
    "# path = 'DIMORISAC S.A.C._SantaRosa_Rutas_20250813.csv'\n",
    "# path = 'DIMORISAC S.A.C._Ate_Rutas_20250814.csv'\n",
    "# path = 'DIMORISAC S.A.C._Breña_Rutas_20250815.csv'\n",
    "# path = 'DIMORISAC S.A.C._Chorrillos_Rutas_20250815.csv'\n",
    "# path = 'DIMORISAC S.A.C._Cieneguilla_Rutas_20250815.csv'\n",
    "# path = \"DIMORISAC S.A.C._JesusMaria_Rutas_20250815.csv\"\n",
    "# path = \"DIMORISAC S.A.C._LaMolina_Rutas_20250815.csv\"\n",
    "# path = \"DIMORISAC S.A.C._LaVictoria_Rutas_20250815.csv\"\n",
    "# path = \"DIMORISAC S.A.C._Lince_Rutas_20250815.csv\"\n",
    "# path = \"DIMORISAC S.A.C._Lurigancho_Rutas_20250815.csv\"\n",
    "# path = \"DIMORISAC S.A.C._Pachacamac_Rutas_20250815.csv\"\n",
    "# path = \"DIMORISAC S.A.C._Pucusana_Rutas_20250815.csv\"\n",
    "# path = \"DIMORISAC S.A.C._SanBartolo_Rutas_20250815.csv\"\n",
    "# path = \"DIMORISAC S.A.C._Rimac_Rutas_20250815.csv\"\n",
    "# path = \"DIMORISAC S.A.C._SanBorja_Rutas_20250815.csv\"\n",
    "# path = \"DIMORISAC S.A.C._SanIsidro_Rutas_20250815.csv\"\n",
    "# path = \"DIMORISAC S.A.C._SantaAnita_Rutas_20250815.csv\"\n",
    "# path = \"DIMORISAC S.A.C._SantiagodeSurco_Rutas_20250815.csv\"\n",
    "# path = \"DIMORISAC S.A.C._Surquillo_Rutas_20250815.csv\"\n",
    "path = \"DIMORISAC S.A.C._Ate_Rutas_20250817.csv\"\n",
    "data_frame = pd.read_csv(path)\n",
    "lista = {}\n",
    "for i in range(12): \n",
    "    a,b = data_frame[data_frame['Ruta']==f'Ruta {i+1}'].shape\n",
    "    lista[f'Ruta {i+1}'] = a\n",
    "    \n",
    "lista"
   ]
  },
  {
   "cell_type": "code",
   "execution_count": 225,
   "id": "de2a8476-c9ff-408d-9fc3-abab79dbf15e",
   "metadata": {
    "tags": []
   },
   "outputs": [
    {
     "name": "stdout",
     "output_type": "stream",
     "text": [
      "747\n"
     ]
    }
   ],
   "source": [
    "suma = 0\n",
    "for (a,b) in lista.items():\n",
    "    suma+=b\n",
    "print(suma)"
   ]
  },
  {
   "cell_type": "code",
   "execution_count": 130,
   "id": "59eafe92-cfa7-4365-9140-b06087c552de",
   "metadata": {
    "tags": []
   },
   "outputs": [],
   "source": [
    "op1 = {'Ruta 1': 48,\n",
    " 'Ruta 2': 54,\n",
    " 'Ruta 3': 59,\n",
    " 'Ruta 4': 64,\n",
    " 'Ruta 5': 43,\n",
    " 'Ruta 6': 56,\n",
    " 'Ruta 7': 40,\n",
    " 'Ruta 8': 61,\n",
    " 'Ruta 9': 52,\n",
    " 'Ruta 10': 50,\n",
    " 'Ruta 11': 44,\n",
    " 'Ruta 12': 41}\n",
    "op2 = {'Ruta 1': 50,\n",
    " 'Ruta 2': 56,\n",
    " 'Ruta 3': 61,\n",
    " 'Ruta 4': 63,\n",
    " 'Ruta 5': 64,\n",
    " 'Ruta 6': 63,\n",
    " 'Ruta 7': 42,\n",
    " 'Ruta 8': 65,\n",
    " 'Ruta 9': 49,\n",
    " 'Ruta 10': 40,\n",
    " 'Ruta 11': 52,\n",
    " 'Ruta 12': 62}"
   ]
  },
  {
   "cell_type": "code",
   "execution_count": 131,
   "id": "96d64d0a-cec1-4f04-ba50-df02f0cde159",
   "metadata": {
    "tags": []
   },
   "outputs": [
    {
     "name": "stdout",
     "output_type": "stream",
     "text": [
      "612\n",
      "667\n"
     ]
    }
   ],
   "source": [
    "suma1 = 0\n",
    "suma2 = 0\n",
    "for (a,b) in op1.items():\n",
    "    suma1+=b\n",
    "    \n",
    "for (a,b) in op2.items():\n",
    "    suma2+=b\n",
    "print(suma1)\n",
    "print(suma2)"
   ]
  },
  {
   "cell_type": "code",
   "execution_count": 135,
   "id": "c76a9681-9b6e-4d61-b95d-16c3ba3de3d6",
   "metadata": {
    "tags": []
   },
   "outputs": [
    {
     "name": "stdout",
     "output_type": "stream",
     "text": [
      "663\n",
      "766\n"
     ]
    }
   ],
   "source": [
    "comas1 = {'Ruta 1': 50,\n",
    " 'Ruta 2': 56,\n",
    " 'Ruta 3': 61,\n",
    " 'Ruta 4': 62,\n",
    " 'Ruta 5': 64,\n",
    " 'Ruta 6': 61,\n",
    " 'Ruta 7': 42,\n",
    " 'Ruta 8': 65,\n",
    " 'Ruta 9': 49,\n",
    " 'Ruta 10': 40,\n",
    " 'Ruta 11': 52,\n",
    " 'Ruta 12': 61}\n",
    "comas2 = {'Ruta 1': 67,\n",
    " 'Ruta 2': 56,\n",
    " 'Ruta 3': 58,\n",
    " 'Ruta 4': 73,\n",
    " 'Ruta 5': 55,\n",
    " 'Ruta 6': 75,\n",
    " 'Ruta 7': 57,\n",
    " 'Ruta 8': 90,\n",
    " 'Ruta 9': 51,\n",
    " 'Ruta 10': 61,\n",
    " 'Ruta 11': 49,\n",
    " 'Ruta 12': 74}\n",
    "\n",
    "sumaC1 = 0\n",
    "sumaC2 = 0\n",
    "for (a,b) in comas1.items():\n",
    "    sumaC1+=b\n",
    "    \n",
    "for (a,b) in comas2.items():\n",
    "    sumaC2+=b\n",
    "print(sumaC1)\n",
    "print(sumaC2)\n"
   ]
  },
  {
   "cell_type": "code",
   "execution_count": 119,
   "id": "7844f81b-072c-4160-a76b-550e2deec2e9",
   "metadata": {},
   "outputs": [],
   "source": [
    "import pyproj\n",
    "import numpy as np\n",
    "from scipy.spatial.distance import pdist\n",
    "\n",
    "def project(lons, lats):\n",
    "    crs_wgs = \"EPSG:4326\"\n",
    "    crs_metric = \"EPSG:32718\"\n",
    "    proj_to_metric = pyproj.Transformer.from_crs(crs_wgs, crs_metric, always_xy=True)\n",
    "    \n",
    "    xs, ys = proj_to_metric.transform(lons, lats)\n",
    "    return np.vstack([xs, ys]).T\n",
    "    \n",
    "\n",
    "def verificar_cluster_aislado(df_final):\n",
    "    # Nueva validación: Detectar y separar puntos o grupos alejados en cada cluster\n",
    "    MAX_INTRA_DIST = 500\n",
    "    MAX_GROUP_DIST = 200\n",
    "    nuevo_df_list = []\n",
    "    for (isla_id, cluster_id), grupo in df_final.groupby(['isla_id', 'cluster']):\n",
    "        # Obtener coordenadas métricas (usando tu método project)\n",
    "        coords = project(grupo[\"Longitud\"].to_numpy(), grupo[\"Latitud\"].to_numpy())\n",
    "        # Calcular centroide del cluster\n",
    "        centroid = coords.mean(axis=0)\n",
    "        # Calcular distancias euclidianas de cada punto al centroide\n",
    "        dists = np.linalg.norm(coords - centroid, axis=1)\n",
    "        # Identificar índices de puntos alejados y no alejados\n",
    "        alejados_idx = np.where(dists > MAX_INTRA_DIST)[0]\n",
    "        no_alejados_idx = np.where(dists <= MAX_INTRA_DIST)[0]\n",
    "        # Mantener el cluster original solo con puntos no alejados\n",
    "        grupo_original = grupo.iloc[no_alejados_idx].copy()\n",
    "        nuevo_df_list.append(grupo_original)\n",
    "\n",
    "        if len(alejados_idx) == 0:\n",
    "            continue\n",
    "            \n",
    "        elif len(alejados_idx) == 1:\n",
    "            # Un solo punto alejado: asignar a nuevo cluster\n",
    "            nuevo_grupo = grupo.iloc[alejados_idx].copy()\n",
    "            nuevo_grupo[\"cluster\"] = f\"{cluster_id}_outlier\"\n",
    "            nuevo_df_list.append(nuevo_grupo)\n",
    "        else:\n",
    "            # Múltiples puntos alejados: calcular distancia máxima pairwise entre ellos\n",
    "            coords_alej = coords[alejados_idx]\n",
    "            max_dist_alej = pdist(coords_alej).max() if len(coords_alej) > 1 else 0\n",
    "\n",
    "            if max_dist_alej <= MAX_GROUP_DIST:\n",
    "                # Están cerca: asignar a un nuevo cluster unido\n",
    "                nuevo_grupo = grupo.iloc[alejados_idx].copy()\n",
    "                nuevo_grupo[\"cluster\"] = f\"{cluster_id}_group\"\n",
    "                nuevo_df_list.append(nuevo_grupo)\n",
    "            else:\n",
    "                # No están cerca: asignar cada uno a un cluster individual\n",
    "                for i, idx in enumerate(alejados_idx):\n",
    "                    nuevo_grupo = grupo.iloc[[idx]].copy()\n",
    "                    nuevo_grupo[\"cluster\"] = f\"{cluster_id}_outlier_{i}\"\n",
    "                    nuevo_df_list.append(nuevo_grupo)\n",
    "\n",
    "    # Reconstruir df_final con los cambios\n",
    "    df_final = pd.concat(nuevo_df_list)\n",
    "    \n",
    "    return df_final"
   ]
  },
  {
   "cell_type": "code",
   "execution_count": 120,
   "id": "d1665488-5096-46d4-a029-6770568ba571",
   "metadata": {
    "tags": []
   },
   "outputs": [],
   "source": [
    "ubicacion = 'prime.csv'\n",
    "data = pd.read_csv(ubicacion)\n",
    "data = verificar_cluster_aislado(data)"
   ]
  },
  {
   "cell_type": "code",
   "execution_count": 105,
   "id": "00aa803d-fb4f-4117-ad6b-988169333d4f",
   "metadata": {
    "tags": []
   },
   "outputs": [
    {
     "name": "stdout",
     "output_type": "stream",
     "text": [
      "si\n",
      "si\n",
      "si\n"
     ]
    }
   ],
   "source": [
    "for (isla_id, cluster_id), grupo in data.groupby([\"isla_id\", \"cluster\"]):\n",
    "    if len(grupo) < 30:\n",
    "        print(\"si\")"
   ]
  },
  {
   "cell_type": "code",
   "execution_count": 217,
   "id": "0175d700-2054-4280-81ea-c11314ab8519",
   "metadata": {
    "tags": []
   },
   "outputs": [],
   "source": [
    "lima_norte = [\"Ancon\", \n",
    "              \"Carabayllo\", \n",
    "              \"Comas\", \n",
    "              \"Independencia\", \n",
    "              \"SanMartindePorres\",\n",
    "              \"PuentePiedra\",\n",
    "              \"LosOlivos\", \n",
    "              \"SantaRosa\"\n",
    "             ]"
   ]
  },
  {
   "cell_type": "code",
   "execution_count": 222,
   "id": "9ce1bf85-9bcd-4586-968a-b8011ec011ee",
   "metadata": {},
   "outputs": [],
   "source": [
    "import os\n",
    "directorios = []\n",
    "for i in os.listdir('.'):\n",
    "    # if i.startswith('DIMORISAC S.A.C.') and i.split('_')[2] == 'Datalimpia' and i.split('_')[1] in lima_norte:\n",
    "    if i.startswith('DIMORISAC S.A.C.') and i.split('_')[2] == 'Datalimpia':\n",
    "        directorios.append(i)"
   ]
  },
  {
   "cell_type": "code",
   "execution_count": 223,
   "id": "7c591844-e253-4bbb-8d19-2ed8afc30d2c",
   "metadata": {
    "tags": []
   },
   "outputs": [
    {
     "name": "stdout",
     "output_type": "stream",
     "text": [
      "DIMORISAC S.A.C._VillaElSalvador_Datalimpia_20250815.csv -> 3109 filas\n",
      "DIMORISAC S.A.C._SantaRosa_Datalimpia_20250815.csv -> 115 filas\n",
      "DIMORISAC S.A.C._SanLuis_Datalimpia_20250815.csv -> 306 filas\n",
      "DIMORISAC S.A.C._MagdalenaVieja_Datalimpia_20250815.csv -> 168 filas\n",
      "DIMORISAC S.A.C._Ancon_Datalimpia_20250813.csv -> 268 filas\n",
      "DIMORISAC S.A.C._Ancon_Datalimpia_20250814.csv -> 268 filas\n",
      "DIMORISAC S.A.C._PuntaNegra_Datalimpia_20250815.csv -> 61 filas\n",
      "DIMORISAC S.A.C._Comas_Datalimpia_20250814.csv -> 3394 filas\n",
      "DIMORISAC S.A.C._JesusMaria_Datalimpia_20250815.csv -> 206 filas\n",
      "DIMORISAC S.A.C._Rimac_Datalimpia_20250815.csv -> 839 filas\n",
      "DIMORISAC S.A.C._SanJuandeMiraflores_Datalimpia_20250815.csv -> 2663 filas\n",
      "DIMORISAC S.A.C._SanMartindePorres_Datalimpia_20250813.csv -> 3669 filas\n",
      "DIMORISAC S.A.C._Independencia_Datalimpia_20250816.csv -> 1305 filas\n",
      "DIMORISAC S.A.C._Pucusana_Datalimpia_20250815.csv -> 73 filas\n",
      "DIMORISAC S.A.C._SanMiguel_Datalimpia_20250815.csv -> 446 filas\n",
      "DIMORISAC S.A.C._Chorrillos_Datalimpia_20250815.csv -> 1350 filas\n",
      "DIMORISAC S.A.C._VillaMariadelTriunfo_Datalimpia_20250815.csv -> 2289 filas\n",
      "DIMORISAC S.A.C._SanJuandeLurigancho_Datalimpia_20250815.csv -> 5756 filas\n",
      "DIMORISAC S.A.C._CARABAYLLO_Datalimpia_20250815.csv -> 1781 filas\n",
      "DIMORISAC S.A.C._Miraflores_Datalimpia_20250815.csv -> 192 filas\n",
      "DIMORISAC S.A.C._SantaRosa_Datalimpia_20250813.csv -> 204 filas\n",
      "DIMORISAC S.A.C._ElAgustino_Datalimpia_20250815.csv -> 810 filas\n",
      "DIMORISAC S.A.C._Ate_Datalimpia_20250814.csv -> 3231 filas\n",
      "DIMORISAC S.A.C._Carabayllo_Datalimpia_20250817.csv -> 1781 filas\n",
      "DIMORISAC S.A.C._Carabayllo_Datalimpia_20250814.csv -> 1781 filas\n",
      "DIMORISAC S.A.C._PuentePiedra_Datalimpia_20250816.csv -> 1942 filas\n",
      "DIMORISAC S.A.C._Ancon_Datalimpia_20250816.csv -> 268 filas\n",
      "DIMORISAC S.A.C._SantaRosa_Datalimpia_20250816.csv -> 115 filas\n",
      "DIMORISAC S.A.C._SanBartolo_Datalimpia_20250815.csv -> 73 filas\n",
      "DIMORISAC S.A.C._Surquillo_Datalimpia_20250815.csv -> 355 filas\n",
      "DIMORISAC S.A.C._SanIsidro_Datalimpia_20250815.csv -> 67 filas\n",
      "DIMORISAC S.A.C._Comas_Datalimpia_20250816.csv -> 3394 filas\n",
      "DIMORISAC S.A.C._Breña_Datalimpia_20250815.csv -> 348 filas\n",
      "DIMORISAC S.A.C._LosOlivos_Datalimpia_20250814.csv -> 2041 filas\n",
      "DIMORISAC S.A.C._SanMartindePorres_Datalimpia_20250814.csv -> 3669 filas\n",
      "DIMORISAC S.A.C._LaVictoria_Datalimpia_20250815.csv -> 849 filas\n",
      "DIMORISAC S.A.C._SanMartindePorres_Datalimpia_20250816.csv -> 3669 filas\n",
      "DIMORISAC S.A.C._SantiagodeSurco_Datalimpia_20250815.csv -> 564 filas\n",
      "DIMORISAC S.A.C._Independencia_Datalimpia_20250814.csv -> 1850 filas\n",
      "DIMORISAC S.A.C._SantaAnita_Datalimpia_20250815.csv -> 1115 filas\n",
      "DIMORISAC S.A.C._LosOlivos_Datalimpia_20250813.csv -> 2041 filas\n",
      "DIMORISAC S.A.C._PuntaHermosa_Datalimpia_20250815.csv -> 83 filas\n",
      "DIMORISAC S.A.C._Independencia_Datalimpia_20250813.csv -> 1850 filas\n",
      "DIMORISAC S.A.C._Cieneguilla_Datalimpia_20250815.csv -> 129 filas\n",
      "DIMORISAC S.A.C._SanBorja_Datalimpia_20250815.csv -> 153 filas\n",
      "DIMORISAC S.A.C._Lince_Datalimpia_20250815.csv -> 180 filas\n",
      "DIMORISAC S.A.C._Comas_Datalimpia_20250813.csv -> 3394 filas\n",
      "DIMORISAC S.A.C._SantaMariadelMar_Datalimpia_20250815.csv -> 3 filas\n",
      "DIMORISAC S.A.C._Lurigancho_Datalimpia_20250815.csv -> 1251 filas\n",
      "DIMORISAC S.A.C._PuentePiedra_Datalimpia_20250814.csv -> 1942 filas\n",
      "DIMORISAC S.A.C._LosOlivos_Datalimpia_20250816.csv -> 2041 filas\n",
      "DIMORISAC S.A.C._Chaclacayo_Datalimpia_20250815.csv -> 300 filas\n",
      "DIMORISAC S.A.C._Barranco_Datalimpia_20250814.csv -> 125 filas\n",
      "DIMORISAC S.A.C._PuentePiedra_Datalimpia_20250813.csv -> 1942 filas\n",
      "DIMORISAC S.A.C._Pachacamac_Datalimpia_20250815.csv -> 478 filas\n",
      "DIMORISAC S.A.C._MagdalenadelMar_Datalimpia_20250815.csv -> 145 filas\n",
      "DIMORISAC S.A.C._Lurin_Datalimpia_20250815.csv -> 600 filas\n",
      "DIMORISAC S.A.C._SantaRosa_Datalimpia_20250814.csv -> 204 filas\n",
      "DIMORISAC S.A.C._LaMolina_Datalimpia_20250815.csv -> 313 filas\n"
     ]
    }
   ],
   "source": [
    "for i in directorios:\n",
    "    df = pd.read_csv(i)\n",
    "    a,b = df.shape\n",
    "    print(f'{i} -> {a} filas')"
   ]
  },
  {
   "cell_type": "code",
   "execution_count": null,
   "id": "eb8587d8-c075-44b7-9dac-3918ff50f8d3",
   "metadata": {},
   "outputs": [],
   "source": [
    "PARAMETROS: eps = 500, min_samples = 5 \n",
    "    \n",
    "    \n",
    "    \n",
    "    BREÑA -> fusion_dist_max = 200\n",
    "    CHACLACAYO -> fusion_dist_max = 200\n",
    "    CHORRILLOS -> fusion_dist_max = 1000\n",
    "    CIENEGUILLA -> fusion_dist_max = 100\n",
    "    EL AGUSTINO -> fusion_dist_max = 800\n",
    "    LA MOLINA -> fusion_dist_max = 100, dist_umbral = 400(detectar clusters aislados)\n",
    "    LA VICTORIA -> fusion_dist_max = 1000\n",
    "    LURIGANCHO -> fusion_dist_max = 1000 (separar_puntos_alejados())\n",
    "    LURIGANCHO -> fusion_dist_max = 700 (//separar_puntos_alejados())\n",
    "    MAGDALENA DEL MAR -> fusion_dist_max = 100 (//separar_puntos_alejados())\n",
    "    MAGDALENA VIEJA -> fusion_dist_max = 100 (//separar_puntos_alejados())\n",
    "    MIRAFLORES -> fusion_dist_max = 200 (//separar_puntos_alejados())\n",
    "    PACHACAMAC -> fusion_dist_max = 500 (verificar_cluster_aislado())\n",
    "    PUNTA HERMOSA -> fusion_dist_max = 100 (//verificar_cluster_aislado())\n",
    "    PUNTA NEGRA -> fusion_dist_max = 100 (//verificar_cluster_aislado())\n",
    "    RIMAC -> fusion_dist_max = 800 (//verificar_cluster_aislado())\n",
    "    SAN BARTOLO -> fusion_dist_max = 800 (//verificar_cluster_aislado())\n",
    "    SAN BORJA -> fusion_dist_max = 100 (//verificar_cluster_aislado()) (2 GRUPOS VALIDOS)\n",
    "    SAN ISIDRO -> fusion_dist_max = 100 (//verificar_cluster_aislado())\n",
    "    SAN JUAN DE LURIGANCHO -> fusion_dist_max = 1000 (Revisar islas, hay agrupaciones que pasan por avenidas)\n",
    "    SAN LUIS -> fusion_dist_max = 300\n",
    "    SAN MIGUEL -> fusion_dist_max = 400\n",
    "    SANTA ANITA > fusion_dist_max = 700\n",
    "    SANTIAGO DE SURCO -> fusion_dist_max = 500\n",
    "    SURQUILLO -> fusion_dist_max = 300\n",
    "    VILLA EL SALVADOR -> fusion_dist_max = 1000\n",
    "    VILLA MARIA DEL TRIUNFO -> fusion_dist_max = 1000\n",
    "    \n",
    "    \n",
    "PARAMETROS: eps=200, min_samples=2\n",
    "    COMAS -> fusion_dist_max = 1000                  3394 filas\n",
    "    INDEPENDENCIA -> fusion_dist_max = 1000          1850 filas\n",
    "    PUENTE PIEDRA -> fusion_dist_max = 1000          1942 filas\n",
    "    SAN MARTIN DE PORRES -> fusion_dist_max = 1000   3669 filas\n",
    "    LOS OLIVOS -> fusion_dist_max = 1000             2041 filas\n",
    "    CARABAYLLO -> fusion_dist_max = 1000             1781 filas\n",
    "    ANCON -> fusion_dist_max = 200                   268 filas\n",
    "    SANTA ROSA -> fusion_dist_max = 200              204 filas\n",
    "    ATE -> fusion_dist_max = 1000                    3231 filas\n",
    "    PACHACAMAC -> fusion_dist_max = 400              478 filas\n",
    "    \n",
    "    \n",
    "    ATE -> fusion_dist_max = 100\n",
    "    CARABAYLLO -> fusion_dist_max = 100  / fusion_dist_max = 100   eps=500, min_samples=5\n",
    "    SANTA ROSA -> fusion_dist_max = 100\n",
    "   \n",
    "    BARRANCO -> fusion_dist_max = 400\n",
    "    JESUS MARIA -> fusion_dist_max = 200  (Aplicando k-means para dividir en clusters(zona densa))\n",
    "    LINCE -> fusion_dist_max = 50 (SPLIT_CLUSTER)"
   ]
  }
 ],
 "metadata": {
  "kernelspec": {
   "display_name": "Python 3",
   "language": "python",
   "name": "python3"
  },
  "language_info": {
   "codemirror_mode": {
    "name": "ipython",
    "version": 3
   },
   "file_extension": ".py",
   "mimetype": "text/x-python",
   "name": "python",
   "nbconvert_exporter": "python",
   "pygments_lexer": "ipython3",
   "version": "3.13.3"
  }
 },
 "nbformat": 4,
 "nbformat_minor": 5
}
